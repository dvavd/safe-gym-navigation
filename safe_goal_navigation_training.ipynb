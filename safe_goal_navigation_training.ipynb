{
 "cells": [
  {
   "cell_type": "code",
   "execution_count": null,
   "id": "27793c2c",
   "metadata": {},
   "outputs": [
    {
     "ename": "SyntaxError",
     "evalue": "'{' was never closed (2426947056.py, line 5)",
     "output_type": "error",
     "traceback": [
      "\u001b[0;36m  Cell \u001b[0;32mIn[2], line 5\u001b[0;36m\u001b[0m\n\u001b[0;31m    custom_cfgs = {\u001b[0m\n\u001b[0m                  ^\u001b[0m\n\u001b[0;31mSyntaxError\u001b[0m\u001b[0;31m:\u001b[0m '{' was never closed\n"
     ]
    }
   ],
   "source": [
    "import omnisafe\n",
    "from gym_navigation.envs.navigation_goal_safe import NavigationGoalSafe\n",
    "\n",
    "\n",
    "custom_cfgs = {\n",
    "    'model_cfgs': {\n",
    "        'actor_type': 'gaussian_learning',\n",
    "        'actor': {\n",
    "            'lr': 0.0001,\n",
    "            'hidden_sizes': [128, 128],\n",
    "        },\n",
    "        'critic': {\n",
    "            'lr': 0.0005,\n",
    "            'hidden_sizes': [128, 128],\n",
    "        },\n",
    "    },\n",
    "    'train_cfgs': {\n",
    "        'total_steps': 10000000,\n",
    "        'vector_env_nums': 1,\n",
    "        'parallel': 1,\n",
    "        'device': 'cpu',\n",
    "    },\n",
    "    'algo_cfgs': {\n",
    "        'steps_per_epoch': 20000,\n",
    "        'update_iters': 1,\n",
    "    },\n",
    "    'logger_cfgs': {\n",
    "        'use_wandb': False,\n",
    "    },\n",
    "}\n",
    "\n",
    "env_id = 'NavigationGoalSafe-v0'\n",
    "agent = omnisafe.Agent('PPOLag', env_id, custom_cfgs=custom_cfgs)\n",
    "agent.learn()"
   ]
  }
 ],
 "metadata": {
  "kernelspec": {
   "display_name": "omnisafe",
   "language": "python",
   "name": "python3"
  },
  "language_info": {
   "codemirror_mode": {
    "name": "ipython",
    "version": 3
   },
   "file_extension": ".py",
   "mimetype": "text/x-python",
   "name": "python",
   "nbconvert_exporter": "python",
   "pygments_lexer": "ipython3",
   "version": "3.10.16"
  }
 },
 "nbformat": 4,
 "nbformat_minor": 5
}
