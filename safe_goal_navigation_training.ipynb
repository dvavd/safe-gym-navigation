{
 "cells": [
  {
   "cell_type": "code",
   "execution_count": null,
   "id": "b9fc6973",
   "metadata": {},
   "outputs": [],
   "source": [
    "import omnisafe\n",
    "from gym_navigation.envs.navigation_goal_safe import NavigationGoalSafe\n",
    "import numpy as np\n",
    "import matplotlib.pyplot as plt\n",
    "\n",
    "# common base configuration for both constrained and unconstrained\n",
    "base_cfg = {\n",
    "    \"model_cfgs\": {\n",
    "        \"actor_type\": \"gaussian_learning\",\n",
    "        \"actor\": {\n",
    "            \"lr\": 0.0003,\n",
    "            \"hidden_sizes\": [\n",
    "                64,\n",
    "                64\n",
    "            ]\n",
    "        },\n",
    "        \"critic\": {\n",
    "            \"lr\": 0.0003,\n",
    "            \"hidden_sizes\": [\n",
    "                64,\n",
    "                64\n",
    "            ]\n",
    "        }\n",
    "    },\n",
    "    \"train_cfgs\": {\n",
    "        \"total_steps\": 40000,\n",
    "        \"vector_env_nums\": 1,\n",
    "        \"parallel\": 1,\n",
    "        \"device\": \"cpu\"\n",
    "    },\n",
    "    \"algo_cfgs\": {\n",
    "        \"steps_per_epoch\": 10000,\n",
    "        \"entropy_coef\": 0.05,\n",
    "    },\n",
    "    \"logger_cfgs\": {\n",
    "        \"use_wandb\": False,\n",
    "        \"save_model_freq\": 10\n",
    "    },\n",
    "}"
   ]
  },
  {
   "cell_type": "code",
   "execution_count": null,
   "id": "00f27b23",
   "metadata": {},
   "outputs": [],
   "source": [
    "# Configure for constrained agent \n",
    "constrained_cfg = base_cfg.copy()\n",
    "constrained_cfg['lagrange_cfgs'] = {\n",
    "    \"cost_limit\": 5.0,\n",
    "    \"lambda_lr\": 0.01,\n",
    "    \"lagrangian_multiplier_init\": 0.01\n",
    "}\n",
    "constrained_env_id = 'NavigationGoalSafe-v0'\n",
    "constrained_agent = omnisafe.Agent('PPOLag', constrained_env_id, custom_cfgs=constrained_cfg)\n",
    "constrained_result = constrained_agent.learn()\n"
   ]
  },
  {
   "cell_type": "code",
   "execution_count": null,
   "id": "f896c024",
   "metadata": {},
   "outputs": [],
   "source": [
    "unconstrained_env_id = 'NavigationGoalUnconstrained-v0'  # Our new environment ID\n",
    "unconstrained_agent = omnisafe.Agent('PPO', unconstrained_env_id, custom_cfgs=base_cfg)\n",
    "unconstrained_result = unconstrained_agent.learn()"
   ]
  }
 ],
 "metadata": {
  "kernelspec": {
   "display_name": "omnisafe",
   "language": "python",
   "name": "python3"
  },
  "language_info": {
   "codemirror_mode": {
    "name": "ipython",
    "version": 3
   },
   "file_extension": ".py",
   "mimetype": "text/x-python",
   "name": "python",
   "nbconvert_exporter": "python",
   "pygments_lexer": "ipython3",
   "version": "3.10.16"
  }
 },
 "nbformat": 4,
 "nbformat_minor": 5
}
