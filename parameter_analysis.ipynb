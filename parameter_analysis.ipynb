{
 "cells": [
  {
   "cell_type": "markdown",
   "id": "8bcd3cc2",
   "metadata": {},
   "source": [
    "# Parameter Analysis\n",
    "* We would like to take the average top k runs, rather than only the top run to improve stability.\n",
    "* For the next run, will they overwrite the trial_params & trial_values tables ???\n",
    "* For each Trial, we should use a new db file. But this was not done for the (end-to-end / HumanPose) study, so skip the first 196 rows for the next study"
   ]
  },
  {
   "cell_type": "code",
   "execution_count": 1,
   "id": "09b887a8",
   "metadata": {},
   "outputs": [],
   "source": [
    "import sqlite3\n",
    "import numpy as np"
   ]
  },
  {
   "cell_type": "code",
   "execution_count": 2,
   "id": "2c7f1089",
   "metadata": {},
   "outputs": [],
   "source": [
    "# connect to db\n",
    "conn = sqlite3.connect('safe_goal_navigation_study2.db')\n",
    "cursor = conn.cursor()\n"
   ]
  },
  {
   "cell_type": "code",
   "execution_count": 3,
   "id": "d9b0c26c",
   "metadata": {},
   "outputs": [
    {
     "name": "stdout",
     "output_type": "stream",
     "text": [
      "Tables in the database:\n",
      "studies\n",
      "version_info\n",
      "study_directions\n",
      "study_user_attributes\n",
      "study_system_attributes\n",
      "trials\n",
      "trial_user_attributes\n",
      "trial_system_attributes\n",
      "trial_params\n",
      "trial_values\n",
      "trial_intermediate_values\n",
      "trial_heartbeats\n",
      "alembic_version\n"
     ]
    }
   ],
   "source": [
    "# Execute a query to retrieve the names of all tables\n",
    "cursor.execute(\"SELECT name FROM sqlite_master WHERE type='table';\")\n",
    "\n",
    "# Fetch all table names from the query result\n",
    "tables = cursor.fetchall()\n",
    "\n",
    "# Print out the table names\n",
    "print(\"Tables in the database:\")\n",
    "for table in tables:\n",
    "    print(table[0])"
   ]
  },
  {
   "cell_type": "code",
   "execution_count": 5,
   "id": "cdcf0b6b",
   "metadata": {},
   "outputs": [
    {
     "name": "stdout",
     "output_type": "stream",
     "text": [
      "Table name: studies\n",
      "(1, 'safe_goal_navigation2')\n"
     ]
    }
   ],
   "source": [
    "# sample get rows\n",
    "i = 0\n",
    "print(f\"Table name: {tables[i][0]}\")\n",
    "cursor.execute(f\"SELECT * FROM {tables[i][0]}\")\n",
    "rows = cursor.fetchall()\n",
    "for row in rows:\n",
    "    print(row)\n"
   ]
  },
  {
   "cell_type": "code",
   "execution_count": 6,
   "id": "d9b3ba27",
   "metadata": {},
   "outputs": [],
   "source": [
    "skip_rows = 0  # set to 0 for End-to-End, and 196 for HumanPose"
   ]
  },
  {
   "cell_type": "code",
   "execution_count": 8,
   "id": "e7041c1b",
   "metadata": {},
   "outputs": [
    {
     "name": "stdout",
     "output_type": "stream",
     "text": [
      "Table name: trial_values\n",
      "298\n"
     ]
    }
   ],
   "source": [
    "# get trial_values_dict\n",
    "j = 9\n",
    "print(f\"Table name: {tables[j][0]}\")\n",
    "cursor.execute(f\"SELECT * FROM {tables[j][0]}\")\n",
    "rows = cursor.fetchall()\n",
    "trial_values_dict = {row[1]:row[3] for row in rows[skip_rows:]}\n",
    "print(len(trial_values_dict))"
   ]
  },
  {
   "cell_type": "code",
   "execution_count": 9,
   "id": "6970c49b",
   "metadata": {},
   "outputs": [
    {
     "name": "stdout",
     "output_type": "stream",
     "text": [
      "Table name: trial_params\n",
      "298\n"
     ]
    }
   ],
   "source": [
    "# get trial_params_dict\n",
    "print(f\"Table name: {tables[8][0]}\")\n",
    "cursor.execute(f\"SELECT * FROM {tables[8][0]}\")\n",
    "rows = cursor.fetchall()\n",
    "trial_params_dict = {i:list(row[2:4] for row in rows if row[1]==i) for i in trial_values_dict.keys()}\n",
    "print(len(trial_params_dict))"
   ]
  },
  {
   "cell_type": "markdown",
   "id": "4ff57907",
   "metadata": {},
   "source": [
    "### Get parameters for top K runs"
   ]
  },
  {
   "cell_type": "code",
   "execution_count": 16,
   "id": "57d0adb5",
   "metadata": {
    "scrolled": true
   },
   "outputs": [
    {
     "name": "stdout",
     "output_type": "stream",
     "text": [
      "trial: 289, Value: 194.09883135557175\n",
      "[('lr_critic', 0.0005195643086454788), ('lr_actor', 0.0009145361184631777), ('hidden_size', 5.0), ('lagrangian_multiplier_init', 0.3632809429541994), ('lr_lambda', 0.07440154986219596), ('batch_size', 2.0), ('entropy_coef', 0.031220720150334714), ('max_grad_norm', 0.5926251009798884), ('cost_limit', 0.1258981046732445), ('reward_normalize', 1.0), ('cost_normalize', 1.0), ('obs_normalize', 1.0), ('kl_early_stop', 1.0), ('use_max_grad_norm', 1.0), ('use_critic_norm', 1.0), ('standardized_rew_adv', 0.0), ('standardized_cost_adv', 1.0), ('use_cost', 0.0), ('linear_lr_decay', 0.0), ('exploration_noise_anneal', 1.0), ('clip_range', 0.2789187828457436), ('update_iters', 19.0)]\n",
      "\n",
      "trial: 299, Value: 188.56431564688683\n",
      "[('lr_critic', 0.0005053017778442057), ('lr_actor', 0.0008745743727171115), ('hidden_size', 5.0), ('lagrangian_multiplier_init', 0.5870106233384039), ('lr_lambda', 0.07376333462389119), ('batch_size', 2.0), ('entropy_coef', 0.03186191143291919), ('max_grad_norm', 0.6017774687559775), ('cost_limit', 0.13179881196743062), ('reward_normalize', 1.0), ('cost_normalize', 1.0), ('obs_normalize', 1.0), ('kl_early_stop', 1.0), ('use_max_grad_norm', 1.0), ('use_critic_norm', 1.0), ('standardized_rew_adv', 0.0), ('standardized_cost_adv', 1.0), ('use_cost', 0.0), ('linear_lr_decay', 0.0), ('exploration_noise_anneal', 1.0), ('clip_range', 0.29144746676284217), ('update_iters', 22.0)]\n",
      "\n",
      "trial: 266, Value: 181.61410516500473\n",
      "[('lr_critic', 0.0005638041674847155), ('lr_actor', 0.0006871215310825982), ('hidden_size', 5.0), ('lagrangian_multiplier_init', 0.473541858068049), ('lr_lambda', 0.07103833075718108), ('batch_size', 2.0), ('entropy_coef', 0.03765787363130957), ('max_grad_norm', 0.49613593990759663), ('cost_limit', 0.2576561338299779), ('reward_normalize', 1.0), ('cost_normalize', 1.0), ('obs_normalize', 1.0), ('kl_early_stop', 1.0), ('use_max_grad_norm', 0.0), ('use_critic_norm', 1.0), ('standardized_rew_adv', 0.0), ('standardized_cost_adv', 1.0), ('use_cost', 0.0), ('linear_lr_decay', 0.0), ('exploration_noise_anneal', 1.0), ('clip_range', 0.2652597499985529), ('update_iters', 18.0)]\n",
      "\n",
      "trial: 221, Value: 181.2315062880516\n",
      "[('lr_critic', 0.0009755293337873224), ('lr_actor', 0.0009111607790449881), ('hidden_size', 2.0), ('lagrangian_multiplier_init', 0.3872245840739733), ('lr_lambda', 0.09656073274274261), ('batch_size', 0.0), ('entropy_coef', 0.025904837386052516), ('max_grad_norm', 0.11385368200685242), ('cost_limit', 0.3146774487344379), ('reward_normalize', 1.0), ('cost_normalize', 1.0), ('obs_normalize', 1.0), ('kl_early_stop', 0.0), ('use_max_grad_norm', 0.0), ('use_critic_norm', 1.0), ('standardized_rew_adv', 0.0), ('standardized_cost_adv', 1.0), ('use_cost', 0.0), ('linear_lr_decay', 0.0), ('exploration_noise_anneal', 1.0), ('clip_range', 0.2530873614918787), ('update_iters', 13.0)]\n",
      "\n",
      "trial: 291, Value: 180.98550409078598\n",
      "[('lr_critic', 0.0005185842267110979), ('lr_actor', 0.0008973597263470455), ('hidden_size', 5.0), ('lagrangian_multiplier_init', 0.36558514325143), ('lr_lambda', 0.07251901783092955), ('batch_size', 2.0), ('entropy_coef', 0.02895711904023337), ('max_grad_norm', 0.4493550497162735), ('cost_limit', 0.174621670368009), ('reward_normalize', 1.0), ('cost_normalize', 1.0), ('obs_normalize', 1.0), ('kl_early_stop', 1.0), ('use_max_grad_norm', 1.0), ('use_critic_norm', 1.0), ('standardized_rew_adv', 0.0), ('standardized_cost_adv', 1.0), ('use_cost', 0.0), ('linear_lr_decay', 0.0), ('exploration_noise_anneal', 1.0), ('clip_range', 0.28666689802661244), ('update_iters', 19.0)]\n",
      "\n",
      "trial: 235, Value: 180.65560907125473\n",
      "[('lr_critic', 0.0006220390748229672), ('lr_actor', 0.0009399791325708286), ('hidden_size', 5.0), ('lagrangian_multiplier_init', 0.43860210651986864), ('lr_lambda', 0.07494452364885505), ('batch_size', 2.0), ('entropy_coef', 0.02985807484737217), ('max_grad_norm', 0.4370518423810442), ('cost_limit', 0.28082441551322873), ('reward_normalize', 1.0), ('cost_normalize', 1.0), ('obs_normalize', 1.0), ('kl_early_stop', 1.0), ('use_max_grad_norm', 0.0), ('use_critic_norm', 1.0), ('standardized_rew_adv', 0.0), ('standardized_cost_adv', 1.0), ('use_cost', 0.0), ('linear_lr_decay', 0.0), ('exploration_noise_anneal', 1.0), ('clip_range', 0.2682175483296137), ('update_iters', 15.0)]\n",
      "\n",
      "trial: 106, Value: 180.2271117568016\n",
      "[('lr_critic', 0.0007947249770106691), ('lr_actor', 0.0002505035543397953), ('hidden_size', 2.0), ('lagrangian_multiplier_init', 0.5418757990531557), ('lr_lambda', 0.09401869209203699), ('batch_size', 0.0), ('entropy_coef', 0.024454495430394588), ('max_grad_norm', 0.16309098173844952), ('cost_limit', 0.23968622999958722), ('reward_normalize', 1.0), ('cost_normalize', 1.0), ('obs_normalize', 0.0), ('kl_early_stop', 0.0), ('use_max_grad_norm', 0.0), ('use_critic_norm', 1.0), ('standardized_rew_adv', 0.0), ('standardized_cost_adv', 1.0), ('use_cost', 1.0), ('linear_lr_decay', 0.0), ('exploration_noise_anneal', 1.0), ('clip_range', 0.2944990857046115), ('update_iters', 58.0)]\n",
      "\n",
      "trial: 248, Value: 177.48394811153412\n",
      "[('lr_critic', 0.0006026198742153035), ('lr_actor', 0.0007259928377199247), ('hidden_size', 5.0), ('lagrangian_multiplier_init', 0.4572848311004071), ('lr_lambda', 0.07249756935910698), ('batch_size', 2.0), ('entropy_coef', 0.03877387770678979), ('max_grad_norm', 0.48713849436701684), ('cost_limit', 0.29350471719623095), ('reward_normalize', 1.0), ('cost_normalize', 1.0), ('obs_normalize', 1.0), ('kl_early_stop', 1.0), ('use_max_grad_norm', 0.0), ('use_critic_norm', 1.0), ('standardized_rew_adv', 0.0), ('standardized_cost_adv', 1.0), ('use_cost', 0.0), ('linear_lr_decay', 0.0), ('exploration_noise_anneal', 1.0), ('clip_range', 0.263334361484368), ('update_iters', 17.0)]\n",
      "\n",
      "trial: 290, Value: 177.20843541622162\n",
      "[('lr_critic', 0.0005240996675274403), ('lr_actor', 0.0008984552803771323), ('hidden_size', 5.0), ('lagrangian_multiplier_init', 0.36745027059262253), ('lr_lambda', 0.07287640648013978), ('batch_size', 2.0), ('entropy_coef', 0.04395617074011708), ('max_grad_norm', 0.5664601934558724), ('cost_limit', 0.244401070955928), ('reward_normalize', 1.0), ('cost_normalize', 1.0), ('obs_normalize', 1.0), ('kl_early_stop', 1.0), ('use_max_grad_norm', 1.0), ('use_critic_norm', 1.0), ('standardized_rew_adv', 0.0), ('standardized_cost_adv', 1.0), ('use_cost', 0.0), ('linear_lr_decay', 0.0), ('exploration_noise_anneal', 1.0), ('clip_range', 0.28348123030651984), ('update_iters', 20.0)]\n",
      "\n",
      "trial: 283, Value: 177.06520116329193\n",
      "[('lr_critic', 0.0005378382163962166), ('lr_actor', 0.0007307250620911063), ('hidden_size', 5.0), ('lagrangian_multiplier_init', 0.4667693776419242), ('lr_lambda', 0.07464307474318647), ('batch_size', 2.0), ('entropy_coef', 0.028177462061374895), ('max_grad_norm', 0.4707181486408336), ('cost_limit', 0.17775147215599257), ('reward_normalize', 1.0), ('cost_normalize', 1.0), ('obs_normalize', 1.0), ('kl_early_stop', 1.0), ('use_max_grad_norm', 1.0), ('use_critic_norm', 1.0), ('standardized_rew_adv', 0.0), ('standardized_cost_adv', 1.0), ('use_cost', 0.0), ('linear_lr_decay', 0.0), ('exploration_noise_anneal', 1.0), ('clip_range', 0.2799186229103859), ('update_iters', 19.0)]\n",
      "\n"
     ]
    }
   ],
   "source": [
    "k = 10\n",
    "sorted_values = list(trial_values_dict.items())\n",
    "sorted_values.sort(reverse=True, key=lambda x: x[1])\n",
    "top_k_trial = sorted_values[:k]\n",
    "top_trials_list = []\n",
    "for trial_num, trial_value in top_k_trial:\n",
    "    print(f\"trial: {trial_num}, Value: {trial_value}\")\n",
    "    print(trial_params_dict[trial_num])\n",
    "    print(\"\")\n",
    "    top_trials_list.append(trial_params_dict[trial_num])"
   ]
  },
  {
   "cell_type": "code",
   "execution_count": 15,
   "id": "095ed9d8",
   "metadata": {},
   "outputs": [
    {
     "name": "stdout",
     "output_type": "stream",
     "text": [
      "lr_critic 0.000616556762894564\n",
      "lr_actor 0.0008569505055309841\n",
      "hidden_size 4.4\n",
      "lagrangian_multiplier_init 0.43532863033721114\n",
      "lr_lambda 0.07765659316338809\n",
      "batch_size 1.6\n",
      "entropy_coef 0.031120492328169873\n",
      "max_grad_norm 0.45074944827331764\n",
      "cost_limit 0.20093043391461998\n",
      "reward_normalize 1.0\n",
      "cost_normalize 1.0\n",
      "obs_normalize 1.0\n",
      "kl_early_stop 0.8\n",
      "use_max_grad_norm 0.6\n",
      "use_critic_norm 1.0\n",
      "standardized_rew_adv 0.0\n",
      "standardized_cost_adv 1.0\n",
      "use_cost 0.0\n",
      "linear_lr_decay 0.0\n",
      "exploration_noise_anneal 1.0\n",
      "clip_range 0.27507605182512596\n",
      "update_iters 18.2\n"
     ]
    }
   ],
   "source": [
    "# avg\n",
    "for i in range(len(top_trials_list[0])):\n",
    "    name = top_trials_list[0][i][0]\n",
    "    avg = np.mean([v[i][1] for v in top_trials_list])\n",
    "    print(name,avg)"
   ]
  },
  {
   "cell_type": "code",
   "execution_count": 17,
   "id": "24cb796e-3a2e-4d90-ada2-8a065cef1954",
   "metadata": {},
   "outputs": [
    {
     "name": "stdout",
     "output_type": "stream",
     "text": [
      "lr_critic 0.0006164105624445416\n",
      "lr_actor 0.000783040839475371\n",
      "hidden_size 4.4\n",
      "lagrangian_multiplier_init 0.4448625536594034\n",
      "lr_lambda 0.07772632321402657\n",
      "batch_size 1.6\n",
      "entropy_coef 0.03208225424268979\n",
      "max_grad_norm 0.43782069019498043\n",
      "cost_limit 0.22408200753940677\n",
      "reward_normalize 1.0\n",
      "cost_normalize 1.0\n",
      "obs_normalize 0.9\n",
      "kl_early_stop 0.8\n",
      "use_max_grad_norm 0.5\n",
      "use_critic_norm 1.0\n",
      "standardized_rew_adv 0.0\n",
      "standardized_cost_adv 1.0\n",
      "use_cost 0.1\n",
      "linear_lr_decay 0.0\n",
      "exploration_noise_anneal 1.0\n",
      "clip_range 0.2764831107861129\n",
      "update_iters 22.0\n"
     ]
    }
   ],
   "source": [
    "# avg\n",
    "for i in range(len(top_trials_list[0])):\n",
    "    name = top_trials_list[0][i][0]\n",
    "    avg = np.mean([v[i][1] for v in top_trials_list])\n",
    "    print(name,avg)"
   ]
  },
  {
   "cell_type": "code",
   "execution_count": 23,
   "id": "3a0e0dbc",
   "metadata": {},
   "outputs": [],
   "source": [
    "conn.close()\n"
   ]
  }
 ],
 "metadata": {
  "kernelspec": {
   "display_name": "Python 3 (ipykernel)",
   "language": "python",
   "name": "python3"
  },
  "language_info": {
   "codemirror_mode": {
    "name": "ipython",
    "version": 3
   },
   "file_extension": ".py",
   "mimetype": "text/x-python",
   "name": "python",
   "nbconvert_exporter": "python",
   "pygments_lexer": "ipython3",
   "version": "3.8.18"
  }
 },
 "nbformat": 4,
 "nbformat_minor": 5
}
