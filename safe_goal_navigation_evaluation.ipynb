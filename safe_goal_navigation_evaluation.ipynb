{
 "cells": [
  {
   "cell_type": "code",
   "execution_count": null,
   "id": "862ca8ff",
   "metadata": {},
   "outputs": [],
   "source": [
    "import os\n",
    "#import omnisafe\n",
    "from omnisafe import Evaluator\n",
    "from gym_navigation.envs.navigation_goal_safe import NavigationGoalSafe\n",
    "from omnisafe.envs.wrapper import TimeLimit\n",
    "import torch\n",
    "\n",
    "\n",
    "\n",
    "save_dir = \"runs/PPOLag-{NavigationGoalSafe-v0}/seed-000-2025-05-03-10-29-25\"\n",
    "\n",
    "available_files = [f for f in os.listdir(save_dir)]\n",
    "print(f\"Available files: {available_files}\")\n",
    "model_name = \"epoch-0.pt\"\n",
    "\n",
    "evaluator = Evaluator() \n",
    "\n",
    "evaluator.load_saved(\n",
    "    save_dir=save_dir,\n",
    "    model_name='epoch-500.pt',\n",
    ")\n",
    "\n",
    "evaluator._env = TimeLimit(evaluator._env, device=torch.device('cpu'), time_limit=1000)\n",
    "\n",
    "evaluator.evaluate(num_episodes=1000)"
   ]
  },
  {
   "cell_type": "code",
   "execution_count": null,
   "id": "98af0cdf",
   "metadata": {},
   "outputs": [],
   "source": [
    "import omnisafe\n",
    "import os\n",
    "from gym_navigation.envs.navigation_goal_safe import NavigationGoalSafe\n",
    "from omnisafe.envs.wrapper import TimeLimit\n",
    "import torch\n",
    "\n",
    "\n",
    "save_dir = \"runs/PPOLag-{NavigationGoalSafe-v0}/seed-000-2025-05-03-19-37-37\"\n",
    "\n",
    "evaluator = omnisafe.Evaluator(render_mode='rgb_array')\n",
    "\n",
    "save_replay_path = 'videos/' + save_dir.split('/')[1] + '/' + save_dir.split('/')[2] + '/'\n",
    "\n",
    "# Load the saved model and render episodes\n",
    "for item in os.scandir(os.path.join(save_dir, 'torch_save')):\n",
    "    if item.is_file() and item.name.split('.')[-1] == 'pt':\n",
    "        if item.name == 'epoch-500.pt': # only load the last checkpoint\n",
    "            evaluator.load_saved(\n",
    "                save_dir= save_dir,\n",
    "                model_name=item.name,\n",
    "                width=256,\n",
    "                height=256,\n",
    "                render_mode='rgb_array'\n",
    "            )\n",
    "            # limit the environment to 1000 steps\n",
    "            evaluator._env = TimeLimit(evaluator._env, device=torch.device('cpu'), time_limit=1000)\n",
    "            # save videos\n",
    "            evaluator.render(num_episodes=10, save_replay_path=save_replay_path + \"/\" + item.name.split('.')[0])"
   ]
  }
 ],
 "metadata": {
  "kernelspec": {
   "display_name": "omnisafe",
   "language": "python",
   "name": "python3"
  },
  "language_info": {
   "codemirror_mode": {
    "name": "ipython",
    "version": 3
   },
   "file_extension": ".py",
   "mimetype": "text/x-python",
   "name": "python",
   "nbconvert_exporter": "python",
   "pygments_lexer": "ipython3",
   "version": "3.10.16"
  }
 },
 "nbformat": 4,
 "nbformat_minor": 5
}
