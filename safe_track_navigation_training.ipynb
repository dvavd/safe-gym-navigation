{
 "cells": [
  {
   "cell_type": "code",
   "execution_count": null,
   "id": "27793c2c",
   "metadata": {},
   "outputs": [],
   "source": [
    "import omnisafe\n",
    "from gym_navigation.envs.navigation_track_safe import NavigationTrackSafe\n",
    "\n",
    "\n",
    "custom_cfgs = {\n",
    "    'model_cfgs': {\n",
    "        'actor_type': 'gaussian_learning'\n",
    "    },\n",
    "    'train_cfgs': {\n",
    "        'total_steps': 1024000,\n",
    "        'vector_env_nums': 1,\n",
    "        'parallel': 1,\n",
    "    },\n",
    "    'algo_cfgs': {\n",
    "        'steps_per_epoch': 2048,\n",
    "        'update_iters': 1,\n",
    "    },\n",
    "    'logger_cfgs': {\n",
    "        'use_wandb': False,\n",
    "    },\n",
    "}\n",
    "\n",
    "env_id = 'NavigationTrackSafe-v0'\n",
    "agent = omnisafe.Agent('PPOLag', env_id, custom_cfgs=custom_cfgs)\n",
    "agent.learn()"
   ]
  }
 ],
 "metadata": {
  "kernelspec": {
   "display_name": "omnisafe",
   "language": "python",
   "name": "python3"
  },
  "language_info": {
   "codemirror_mode": {
    "name": "ipython",
    "version": 3
   },
   "file_extension": ".py",
   "mimetype": "text/x-python",
   "name": "python",
   "nbconvert_exporter": "python",
   "pygments_lexer": "ipython3",
   "version": "3.10.16"
  }
 },
 "nbformat": 4,
 "nbformat_minor": 5
}
